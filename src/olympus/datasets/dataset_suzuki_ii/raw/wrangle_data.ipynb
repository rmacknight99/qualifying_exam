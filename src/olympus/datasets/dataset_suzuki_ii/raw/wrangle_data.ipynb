{
 "cells": [
  {
   "cell_type": "code",
   "execution_count": 1,
   "id": "a54201f9",
   "metadata": {},
   "outputs": [],
   "source": [
    "import pickle \n",
    "import numpy as np\n",
    "import pandas as pd\n",
    "\n",
    "import matplotlib.pyplot as plt\n",
    "import seaborn as sns"
   ]
  },
  {
   "cell_type": "code",
   "execution_count": 2,
   "id": "c0027fe5",
   "metadata": {},
   "outputs": [],
   "source": [
    "d = pickle.load(open('dataset_ii.pkl', 'rb'))\n"
   ]
  },
  {
   "cell_type": "code",
   "execution_count": 3,
   "id": "18234add",
   "metadata": {},
   "outputs": [
    {
     "name": "stdout",
     "output_type": "stream",
     "text": [
      "(91, 10)\n"
     ]
    },
    {
     "data": {
      "text/plain": [
       "array([0., 0., 0., 0., 0., 1., 0.])"
      ]
     },
     "execution_count": 3,
     "metadata": {},
     "output_type": "execute_result"
    }
   ],
   "source": [
    "print(d['params'].shape)\n",
    "d['params'][0][:7]\n"
   ]
  },
  {
   "cell_type": "code",
   "execution_count": 4,
   "id": "767ac133",
   "metadata": {},
   "outputs": [
    {
     "name": "stdout",
     "output_type": "stream",
     "text": [
      "res_time : 60.0 600.0\n",
      "temperature : 30.0 110.0\n",
      "catalyst_loading : 0.492 2.516\n"
     ]
    }
   ],
   "source": [
    "# check parameter bounds for the continuous-valued parameters\n",
    "# res_time\n",
    "res_time_min, res_time_max = np.amin(d['params'][:, 7]), np.amax(d['params'][:, 7])\n",
    "# temperature\n",
    "temperature_min, temperature_max = np.amin(d['params'][:, 8]), np.amax(d['params'][:, 8])\n",
    "# catalyst_loading\n",
    "catalyst_loading_min, catalyst_loading_max = np.amin(d['params'][:, 9]), np.amax(d['params'][:, 9])\n",
    "\n",
    "print(f'res_time : {res_time_min} {res_time_max}')\n",
    "print(f'temperature : {temperature_min} {temperature_max}')\n",
    "print(f'catalyst_loading : {catalyst_loading_min} {catalyst_loading_max}')"
   ]
  },
  {
   "cell_type": "code",
   "execution_count": null,
   "id": "b5339a1c",
   "metadata": {},
   "outputs": [],
   "source": []
  },
  {
   "cell_type": "code",
   "execution_count": 5,
   "id": "8ffe6494",
   "metadata": {},
   "outputs": [
    {
     "name": "stdout",
     "output_type": "stream",
     "text": [
      "(91, 2)\n"
     ]
    },
    {
     "data": {
      "text/plain": [
       "array([[ 0. ,  0.1],\n",
       "       [ 0.2,  0.1],\n",
       "       [ 0.2,  0.1],\n",
       "       [ 2.3,  5.7],\n",
       "       [ 2.5,  6.4],\n",
       "       [ 4.4, 11. ],\n",
       "       [ 0.2,  0.1],\n",
       "       [ 0. ,  0.1],\n",
       "       [ 0.2,  0.5],\n",
       "       [ 0.2,  0.1],\n",
       "       [ 0.2,  0.1],\n",
       "       [ 0.2,  0.1],\n",
       "       [ 0. ,  0.1],\n",
       "       [ 0.2,  0.1],\n",
       "       [ 0.4,  1. ],\n",
       "       [ 0. ,  0.1],\n",
       "       [ 5.2,  5.9],\n",
       "       [ 0.1,  0.1],\n",
       "       [ 7.8,  8.9],\n",
       "       [ 0.1,  0.1],\n",
       "       [ 4.7, 11.8],\n",
       "       [ 0. ,  0.1],\n",
       "       [ 7.2,  8.2],\n",
       "       [ 4.6, 11.5],\n",
       "       [ 9.2, 10.5],\n",
       "       [ 5.4, 13.5],\n",
       "       [ 0.3,  0.4],\n",
       "       [ 4.6, 11.7],\n",
       "       [ 6.4, 16.1],\n",
       "       [ 1. ,  2.4],\n",
       "       [11.1, 28. ],\n",
       "       [ 6.5, 16.3],\n",
       "       [ 0. ,  0.1],\n",
       "       [ 0.1,  0.1],\n",
       "       [ 0. ,  0.1],\n",
       "       [11.2, 28.1],\n",
       "       [ 6.5, 16.4],\n",
       "       [ 6.7, 16.9],\n",
       "       [ 7.9, 19.9],\n",
       "       [ 5.2, 13. ],\n",
       "       [10.9,  8.5],\n",
       "       [ 5.4, 11.6],\n",
       "       [ 2.8,  5.4],\n",
       "       [ 9.1, 18.6],\n",
       "       [ 7. ,  5.5],\n",
       "       [ 7.2, 18. ],\n",
       "       [ 5.6, 14.2],\n",
       "       [ 7.2, 18.1],\n",
       "       [ 9.8, 24.6],\n",
       "       [ 2.7,  6.8],\n",
       "       [10.3, 26. ],\n",
       "       [ 9.7, 24.5],\n",
       "       [ 4.3, 10.8],\n",
       "       [ 6.9, 17.3],\n",
       "       [ 8.3, 15.9],\n",
       "       [ 9.4, 18.5],\n",
       "       [13.3, 24. ],\n",
       "       [15.5, 30.6],\n",
       "       [15.3, 30.2],\n",
       "       [14.7, 20.2],\n",
       "       [ 8.8, 16.9],\n",
       "       [ 8.9, 22.3],\n",
       "       [13. , 32.6],\n",
       "       [19.7, 40.1],\n",
       "       [16.7, 42. ],\n",
       "       [ 0. ,  0.1],\n",
       "       [ 0.2,  0.4],\n",
       "       [18.9, 47.6],\n",
       "       [16.6, 41.9],\n",
       "       [ 0. ,  0.1],\n",
       "       [16.7, 42. ],\n",
       "       [ 0.4,  1.1],\n",
       "       [ 1.8,  4.6],\n",
       "       [ 5.6, 14.2],\n",
       "       [ 9.7, 24.4],\n",
       "       [ 6.3, 15.7],\n",
       "       [ 5.6, 14. ],\n",
       "       [18.1, 45.4],\n",
       "       [15.2, 38.4],\n",
       "       [10. , 25. ],\n",
       "       [15.1, 26.2],\n",
       "       [ 6.8, 17.2],\n",
       "       [16.3, 41.1],\n",
       "       [ 6.8, 17.1],\n",
       "       [ 7. , 17.7],\n",
       "       [18. , 45.2],\n",
       "       [19.4, 34.8],\n",
       "       [ 1. ,  2.5],\n",
       "       [ 1.3,  3.2],\n",
       "       [17.5, 44. ],\n",
       "       [20.3, 38.9]])"
      ]
     },
     "execution_count": 5,
     "metadata": {},
     "output_type": "execute_result"
    }
   ],
   "source": [
    "print(d['values'].shape)\n",
    "d['values']"
   ]
  },
  {
   "cell_type": "code",
   "execution_count": 6,
   "id": "4f1258d1",
   "metadata": {},
   "outputs": [],
   "source": [
    "def ohe_to_str(ohe):\n",
    "    ix = np.where(ohe==1.)[0]\n",
    "    return f'L{int(ix)}'\n",
    "\n",
    "# ohe = np.array([0., 0., 1., 0.])\n",
    "# ohe_to_str(ohe)"
   ]
  },
  {
   "cell_type": "code",
   "execution_count": 7,
   "id": "07db9dad",
   "metadata": {},
   "outputs": [],
   "source": [
    "# convert to dataframe \n",
    "cols = ['ligand', 'res_time', 'temperature', 'catalyst_loading', 'yield', 'turnover']"
   ]
  },
  {
   "cell_type": "code",
   "execution_count": 8,
   "id": "ff6e9575",
   "metadata": {},
   "outputs": [],
   "source": [
    "dict_ = []\n",
    "\n",
    "for param, value in zip(d['params'], d['values']):\n",
    "    \n",
    "    ligand = ohe_to_str(param[:7])\n",
    "    res_time = param[7]\n",
    "    temperature = param[8]\n",
    "    catalyst_loading = param[9]\n",
    "    \n",
    "    #print(ligand, res_time, temperature, catalyst_loading)\n",
    "    yield_ = value[1]\n",
    "    turnover = value[0]\n",
    "    \n",
    "    dict_.append({'ligand': ligand,  'res_time': res_time, 'temperature': temperature, \n",
    "                 'catalyst_loading': catalyst_loading, 'yield': yield_, 'turnover': turnover})"
   ]
  },
  {
   "cell_type": "code",
   "execution_count": 9,
   "id": "070e4b92",
   "metadata": {},
   "outputs": [
    {
     "name": "stdout",
     "output_type": "stream",
     "text": [
      "(91, 6)\n"
     ]
    },
    {
     "data": {
      "text/html": [
       "<div>\n",
       "<style scoped>\n",
       "    .dataframe tbody tr th:only-of-type {\n",
       "        vertical-align: middle;\n",
       "    }\n",
       "\n",
       "    .dataframe tbody tr th {\n",
       "        vertical-align: top;\n",
       "    }\n",
       "\n",
       "    .dataframe thead th {\n",
       "        text-align: right;\n",
       "    }\n",
       "</style>\n",
       "<table border=\"1\" class=\"dataframe\">\n",
       "  <thead>\n",
       "    <tr style=\"text-align: right;\">\n",
       "      <th></th>\n",
       "      <th>ligand</th>\n",
       "      <th>res_time</th>\n",
       "      <th>temperature</th>\n",
       "      <th>catalyst_loading</th>\n",
       "      <th>yield</th>\n",
       "      <th>turnover</th>\n",
       "    </tr>\n",
       "  </thead>\n",
       "  <tbody>\n",
       "    <tr>\n",
       "      <th>0</th>\n",
       "      <td>L5</td>\n",
       "      <td>600.0</td>\n",
       "      <td>110.0</td>\n",
       "      <td>2.490</td>\n",
       "      <td>0.1</td>\n",
       "      <td>0.0</td>\n",
       "    </tr>\n",
       "    <tr>\n",
       "      <th>1</th>\n",
       "      <td>L4</td>\n",
       "      <td>60.0</td>\n",
       "      <td>110.0</td>\n",
       "      <td>0.510</td>\n",
       "      <td>0.1</td>\n",
       "      <td>0.2</td>\n",
       "    </tr>\n",
       "    <tr>\n",
       "      <th>2</th>\n",
       "      <td>L3</td>\n",
       "      <td>60.0</td>\n",
       "      <td>110.0</td>\n",
       "      <td>0.498</td>\n",
       "      <td>0.1</td>\n",
       "      <td>0.2</td>\n",
       "    </tr>\n",
       "    <tr>\n",
       "      <th>3</th>\n",
       "      <td>L6</td>\n",
       "      <td>600.0</td>\n",
       "      <td>110.0</td>\n",
       "      <td>2.489</td>\n",
       "      <td>5.7</td>\n",
       "      <td>2.3</td>\n",
       "    </tr>\n",
       "    <tr>\n",
       "      <th>4</th>\n",
       "      <td>L0</td>\n",
       "      <td>60.0</td>\n",
       "      <td>110.0</td>\n",
       "      <td>2.516</td>\n",
       "      <td>6.4</td>\n",
       "      <td>2.5</td>\n",
       "    </tr>\n",
       "  </tbody>\n",
       "</table>\n",
       "</div>"
      ],
      "text/plain": [
       "  ligand  res_time  temperature  catalyst_loading  yield  turnover\n",
       "0     L5     600.0        110.0             2.490    0.1       0.0\n",
       "1     L4      60.0        110.0             0.510    0.1       0.2\n",
       "2     L3      60.0        110.0             0.498    0.1       0.2\n",
       "3     L6     600.0        110.0             2.489    5.7       2.3\n",
       "4     L0      60.0        110.0             2.516    6.4       2.5"
      ]
     },
     "execution_count": 9,
     "metadata": {},
     "output_type": "execute_result"
    }
   ],
   "source": [
    "df = pd.DataFrame(dict_)\n",
    "print(df.shape)\n",
    "df.head()"
   ]
  },
  {
   "cell_type": "code",
   "execution_count": 10,
   "id": "73c392e1",
   "metadata": {},
   "outputs": [],
   "source": [
    "df.to_csv('../data.csv', index=False)"
   ]
  },
  {
   "cell_type": "code",
   "execution_count": null,
   "id": "93d5e3c1",
   "metadata": {},
   "outputs": [],
   "source": []
  }
 ],
 "metadata": {
  "kernelspec": {
   "display_name": "olympus",
   "language": "python",
   "name": "olympus"
  },
  "language_info": {
   "codemirror_mode": {
    "name": "ipython",
    "version": 3
   },
   "file_extension": ".py",
   "mimetype": "text/x-python",
   "name": "python",
   "nbconvert_exporter": "python",
   "pygments_lexer": "ipython3",
   "version": "3.7.13"
  }
 },
 "nbformat": 4,
 "nbformat_minor": 5
}
