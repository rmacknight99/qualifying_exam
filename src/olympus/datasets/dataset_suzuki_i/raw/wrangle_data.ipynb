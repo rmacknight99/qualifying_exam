{
 "cells": [
  {
   "cell_type": "code",
   "execution_count": 1,
   "id": "a54201f9",
   "metadata": {},
   "outputs": [],
   "source": [
    "import pickle \n",
    "import numpy as np\n",
    "import pandas as pd\n",
    "\n",
    "import matplotlib.pyplot as plt\n",
    "import seaborn as sns"
   ]
  },
  {
   "cell_type": "code",
   "execution_count": 2,
   "id": "c0027fe5",
   "metadata": {},
   "outputs": [],
   "source": [
    "d = pickle.load(open('dataset_i.pkl', 'rb'))\n"
   ]
  },
  {
   "cell_type": "code",
   "execution_count": 3,
   "id": "18234add",
   "metadata": {},
   "outputs": [
    {
     "name": "stdout",
     "output_type": "stream",
     "text": [
      "(89, 10)\n"
     ]
    },
    {
     "data": {
      "text/plain": [
       "array([0., 0., 1., 0., 0., 0., 0.])"
      ]
     },
     "execution_count": 3,
     "metadata": {},
     "output_type": "execute_result"
    }
   ],
   "source": [
    "print(d['params'].shape)\n",
    "d['params'][0][:7]\n"
   ]
  },
  {
   "cell_type": "code",
   "execution_count": 7,
   "id": "aecc437c",
   "metadata": {},
   "outputs": [
    {
     "name": "stdout",
     "output_type": "stream",
     "text": [
      "res_time : 60.0 600.0\n",
      "temperature : 30.0 110.0\n",
      "catalyst_loading : 0.498 2.515\n"
     ]
    }
   ],
   "source": [
    "# check parameter bounds for the continuous-valued parameters\n",
    "# res_time\n",
    "res_time_min, res_time_max = np.amin(d['params'][:, 7]), np.amax(d['params'][:, 7])\n",
    "# temperature\n",
    "temperature_min, temperature_max = np.amin(d['params'][:, 8]), np.amax(d['params'][:, 8])\n",
    "# catalyst_loading\n",
    "catalyst_loading_min, catalyst_loading_max = np.amin(d['params'][:, 9]), np.amax(d['params'][:, 9])\n",
    "\n",
    "print(f'res_time : {res_time_min} {res_time_max}')\n",
    "print(f'temperature : {temperature_min} {temperature_max}')\n",
    "print(f'catalyst_loading : {catalyst_loading_min} {catalyst_loading_max}')"
   ]
  },
  {
   "cell_type": "code",
   "execution_count": null,
   "id": "24756571",
   "metadata": {},
   "outputs": [],
   "source": []
  },
  {
   "cell_type": "code",
   "execution_count": 4,
   "id": "8ffe6494",
   "metadata": {
    "collapsed": true
   },
   "outputs": [
    {
     "name": "stdout",
     "output_type": "stream",
     "text": [
      "(89, 2)\n"
     ]
    },
    {
     "data": {
      "text/plain": [
       "array([[ 1.1,  0.6],\n",
       "       [ 0.2,  0.6],\n",
       "       [ 0.2,  0.6],\n",
       "       [ 1.1,  0.6],\n",
       "       [ 0.2,  0.6],\n",
       "       [ 1.1,  0.6],\n",
       "       [ 1.1,  0.6],\n",
       "       [84.7, 43.4],\n",
       "       [ 1.1,  0.6],\n",
       "       [24. , 60.2],\n",
       "       [16.7, 42. ],\n",
       "       [33.8, 84.6],\n",
       "       [16.9,  8.5],\n",
       "       [21.8, 54.4],\n",
       "       [ 0.5,  0.6],\n",
       "       [22.5, 24.9],\n",
       "       [ 0.2,  0.6],\n",
       "       [21.2, 53.1],\n",
       "       [ 0.5,  0.6],\n",
       "       [ 5.1,  5.6],\n",
       "       [ 6.7,  7.5],\n",
       "       [82.6, 91.3],\n",
       "       [27.4, 68.6],\n",
       "       [21.1, 52.9],\n",
       "       [ 6.6,  7.4],\n",
       "       [30. , 75. ],\n",
       "       [21.6, 53.8],\n",
       "       [18.9, 47.6],\n",
       "       [ 1.1,  0.6],\n",
       "       [ 1.1,  0.6],\n",
       "       [ 1.1,  0.6],\n",
       "       [16.6, 41.9],\n",
       "       [31.2, 77.5],\n",
       "       [ 3.4,  8.5],\n",
       "       [34.2, 85.4],\n",
       "       [13.4, 33.4],\n",
       "       [ 0.2,  0.6],\n",
       "       [ 9.8, 24.4],\n",
       "       [ 1.4,  3.6],\n",
       "       [ 4.9, 12.4],\n",
       "       [32.5, 81.3],\n",
       "       [15.8, 39.1],\n",
       "       [29.8, 74.1],\n",
       "       [24.5, 60.9],\n",
       "       [20.1, 10.3],\n",
       "       [ 1.1,  0.6],\n",
       "       [43.7, 21.7],\n",
       "       [40. , 20.5],\n",
       "       [17. ,  8.7],\n",
       "       [24.5, 23.7],\n",
       "       [42.6, 41.4],\n",
       "       [40.6, 38.8],\n",
       "       [72.4, 91.8],\n",
       "       [46.6, 38. ],\n",
       "       [39.9, 84. ],\n",
       "       [27.7, 69.6],\n",
       "       [25.2, 62.8],\n",
       "       [27.5, 68.6],\n",
       "       [37.1, 83.9],\n",
       "       [34.4, 65.7],\n",
       "       [35. , 80.7],\n",
       "       [27.7, 64.4],\n",
       "       [30.8, 82.1],\n",
       "       [31.9, 80. ],\n",
       "       [24.4, 29.6],\n",
       "       [16.1, 20.4],\n",
       "       [57.8, 71.6],\n",
       "       [44.6, 70.9],\n",
       "       [65.1, 75.5],\n",
       "       [71.4, 82.7],\n",
       "       [65.3, 72.2],\n",
       "       [83.9, 92.8],\n",
       "       [60.7, 72.1],\n",
       "       [73. , 80.7],\n",
       "       [20.2, 20.1],\n",
       "       [18. , 17.9],\n",
       "       [70.5, 87.5],\n",
       "       [63.2, 80.2],\n",
       "       [65.8, 78.1],\n",
       "       [39.4, 98.7],\n",
       "       [65.6, 83.1],\n",
       "       [33.5, 83.9],\n",
       "       [33.2, 83.2],\n",
       "       [62. , 76.9],\n",
       "       [73.3, 75. ],\n",
       "       [81.2, 87.6],\n",
       "       [67. , 75.9],\n",
       "       [65.4, 68.7],\n",
       "       [71.2, 78.7]])"
      ]
     },
     "execution_count": 4,
     "metadata": {},
     "output_type": "execute_result"
    }
   ],
   "source": [
    "print(d['values'].shape)\n",
    "d['values']"
   ]
  },
  {
   "cell_type": "code",
   "execution_count": 9,
   "id": "4f1258d1",
   "metadata": {},
   "outputs": [],
   "source": [
    "def ohe_to_str(ohe):\n",
    "    ix = np.where(ohe==1.)[0]\n",
    "    return f'L{int(ix)}'\n",
    "\n",
    "# ohe = np.array([0., 0., 1., 0.])\n",
    "# ohe_to_str(ohe)"
   ]
  },
  {
   "cell_type": "code",
   "execution_count": 10,
   "id": "07db9dad",
   "metadata": {},
   "outputs": [],
   "source": [
    "# convert to dataframe \n",
    "cols = ['ligand', 'res_time', 'temperature', 'catalyst_loading', 'yield', 'turnover']"
   ]
  },
  {
   "cell_type": "code",
   "execution_count": 11,
   "id": "ff6e9575",
   "metadata": {},
   "outputs": [],
   "source": [
    "dict_ = []\n",
    "\n",
    "for param, value in zip(d['params'], d['values']):\n",
    "    \n",
    "    ligand = ohe_to_str(param[:7])\n",
    "    res_time = param[7]\n",
    "    temperature = param[8]\n",
    "    catalyst_loading = param[9]\n",
    "    \n",
    "    #print(ligand, res_time, temperature, catalyst_loading)\n",
    "    yield_ = value[1]\n",
    "    turnover = value[0]\n",
    "    \n",
    "    dict_.append({'ligand': ligand,  'res_time': res_time, 'temperature': temperature, \n",
    "                 'catalyst_loading': catalyst_loading, 'yield': yield_, 'turnover': turnover})"
   ]
  },
  {
   "cell_type": "code",
   "execution_count": 12,
   "id": "070e4b92",
   "metadata": {},
   "outputs": [
    {
     "name": "stdout",
     "output_type": "stream",
     "text": [
      "(89, 6)\n"
     ]
    },
    {
     "data": {
      "text/html": [
       "<div>\n",
       "<style scoped>\n",
       "    .dataframe tbody tr th:only-of-type {\n",
       "        vertical-align: middle;\n",
       "    }\n",
       "\n",
       "    .dataframe tbody tr th {\n",
       "        vertical-align: top;\n",
       "    }\n",
       "\n",
       "    .dataframe thead th {\n",
       "        text-align: right;\n",
       "    }\n",
       "</style>\n",
       "<table border=\"1\" class=\"dataframe\">\n",
       "  <thead>\n",
       "    <tr style=\"text-align: right;\">\n",
       "      <th></th>\n",
       "      <th>ligand</th>\n",
       "      <th>res_time</th>\n",
       "      <th>temperature</th>\n",
       "      <th>catalyst_loading</th>\n",
       "      <th>yield</th>\n",
       "      <th>turnover</th>\n",
       "    </tr>\n",
       "  </thead>\n",
       "  <tbody>\n",
       "    <tr>\n",
       "      <th>0</th>\n",
       "      <td>L2</td>\n",
       "      <td>600.0</td>\n",
       "      <td>30.0</td>\n",
       "      <td>0.498</td>\n",
       "      <td>0.6</td>\n",
       "      <td>1.1</td>\n",
       "    </tr>\n",
       "    <tr>\n",
       "      <th>1</th>\n",
       "      <td>L5</td>\n",
       "      <td>600.0</td>\n",
       "      <td>30.0</td>\n",
       "      <td>2.515</td>\n",
       "      <td>0.6</td>\n",
       "      <td>0.2</td>\n",
       "    </tr>\n",
       "    <tr>\n",
       "      <th>2</th>\n",
       "      <td>L3</td>\n",
       "      <td>60.0</td>\n",
       "      <td>30.0</td>\n",
       "      <td>2.508</td>\n",
       "      <td>0.6</td>\n",
       "      <td>0.2</td>\n",
       "    </tr>\n",
       "    <tr>\n",
       "      <th>3</th>\n",
       "      <td>L0</td>\n",
       "      <td>60.0</td>\n",
       "      <td>30.0</td>\n",
       "      <td>0.513</td>\n",
       "      <td>0.6</td>\n",
       "      <td>1.1</td>\n",
       "    </tr>\n",
       "    <tr>\n",
       "      <th>4</th>\n",
       "      <td>L1</td>\n",
       "      <td>600.0</td>\n",
       "      <td>30.0</td>\n",
       "      <td>2.513</td>\n",
       "      <td>0.6</td>\n",
       "      <td>0.2</td>\n",
       "    </tr>\n",
       "  </tbody>\n",
       "</table>\n",
       "</div>"
      ],
      "text/plain": [
       "  ligand  res_time  temperature  catalyst_loading  yield  turnover\n",
       "0     L2     600.0         30.0             0.498    0.6       1.1\n",
       "1     L5     600.0         30.0             2.515    0.6       0.2\n",
       "2     L3      60.0         30.0             2.508    0.6       0.2\n",
       "3     L0      60.0         30.0             0.513    0.6       1.1\n",
       "4     L1     600.0         30.0             2.513    0.6       0.2"
      ]
     },
     "execution_count": 12,
     "metadata": {},
     "output_type": "execute_result"
    }
   ],
   "source": [
    "df = pd.DataFrame(dict_)\n",
    "print(df.shape)\n",
    "df.head()"
   ]
  },
  {
   "cell_type": "code",
   "execution_count": 13,
   "id": "73c392e1",
   "metadata": {},
   "outputs": [],
   "source": [
    "df.to_csv('../data.csv', index=False)"
   ]
  },
  {
   "cell_type": "code",
   "execution_count": null,
   "id": "93d5e3c1",
   "metadata": {},
   "outputs": [],
   "source": []
  }
 ],
 "metadata": {
  "kernelspec": {
   "display_name": "olympus",
   "language": "python",
   "name": "olympus"
  },
  "language_info": {
   "codemirror_mode": {
    "name": "ipython",
    "version": 3
   },
   "file_extension": ".py",
   "mimetype": "text/x-python",
   "name": "python",
   "nbconvert_exporter": "python",
   "pygments_lexer": "ipython3",
   "version": "3.7.13"
  }
 },
 "nbformat": 4,
 "nbformat_minor": 5
}
