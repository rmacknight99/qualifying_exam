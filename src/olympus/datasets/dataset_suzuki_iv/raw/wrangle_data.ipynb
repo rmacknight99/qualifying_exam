{
 "cells": [
  {
   "cell_type": "code",
   "execution_count": 3,
   "id": "a54201f9",
   "metadata": {},
   "outputs": [],
   "source": [
    "import pickle \n",
    "import numpy as np\n",
    "import pandas as pd\n",
    "\n",
    "import matplotlib.pyplot as plt\n",
    "import seaborn as sns"
   ]
  },
  {
   "cell_type": "code",
   "execution_count": 4,
   "id": "c0027fe5",
   "metadata": {},
   "outputs": [],
   "source": [
    "d = pickle.load(open('dataset_iv.pkl', 'rb'))\n"
   ]
  },
  {
   "cell_type": "code",
   "execution_count": 5,
   "id": "18234add",
   "metadata": {},
   "outputs": [
    {
     "name": "stdout",
     "output_type": "stream",
     "text": [
      "(88, 10)\n"
     ]
    },
    {
     "data": {
      "text/plain": [
       "array([0., 0., 0., 0., 0., 1., 0.])"
      ]
     },
     "execution_count": 5,
     "metadata": {},
     "output_type": "execute_result"
    }
   ],
   "source": [
    "print(d['params'].shape)\n",
    "d['params'][0][:7]\n"
   ]
  },
  {
   "cell_type": "code",
   "execution_count": 6,
   "id": "ab7f6f4f",
   "metadata": {},
   "outputs": [
    {
     "name": "stdout",
     "output_type": "stream",
     "text": [
      "res_time : 60.0 600.0\n",
      "temperature : 30.0 110.0\n",
      "catalyst_loading : 0.489 2.51\n"
     ]
    }
   ],
   "source": [
    "# check parameter bounds for the continuous-valued parameters\n",
    "# res_time\n",
    "res_time_min, res_time_max = np.amin(d['params'][:, 7]), np.amax(d['params'][:, 7])\n",
    "# temperature\n",
    "temperature_min, temperature_max = np.amin(d['params'][:, 8]), np.amax(d['params'][:, 8])\n",
    "# catalyst_loading\n",
    "catalyst_loading_min, catalyst_loading_max = np.amin(d['params'][:, 9]), np.amax(d['params'][:, 9])\n",
    "\n",
    "print(f'res_time : {res_time_min} {res_time_max}')\n",
    "print(f'temperature : {temperature_min} {temperature_max}')\n",
    "print(f'catalyst_loading : {catalyst_loading_min} {catalyst_loading_max}')"
   ]
  },
  {
   "cell_type": "code",
   "execution_count": 4,
   "id": "8ffe6494",
   "metadata": {},
   "outputs": [
    {
     "name": "stdout",
     "output_type": "stream",
     "text": [
      "(88, 2)\n"
     ]
    },
    {
     "data": {
      "text/plain": [
       "array([[1.170e+01, 2.940e+01],\n",
       "       [2.140e+01, 5.360e+01],\n",
       "       [9.500e+00, 2.370e+01],\n",
       "       [1.292e+02, 6.480e+01],\n",
       "       [1.078e+02, 5.510e+01],\n",
       "       [3.240e+01, 1.580e+01],\n",
       "       [3.760e+01, 9.410e+01],\n",
       "       [2.900e+00, 1.500e+00],\n",
       "       [2.000e-01, 1.000e-01],\n",
       "       [2.000e-01, 1.000e-01],\n",
       "       [2.000e-01, 1.000e-01],\n",
       "       [4.600e+00, 1.150e+01],\n",
       "       [0.000e+00, 1.000e-01],\n",
       "       [2.700e+00, 6.900e+00],\n",
       "       [6.530e+01, 7.310e+01],\n",
       "       [1.300e+00, 1.400e+00],\n",
       "       [2.970e+01, 7.410e+01],\n",
       "       [3.640e+01, 9.130e+01],\n",
       "       [7.000e-01, 8.000e-01],\n",
       "       [6.080e+01, 6.830e+01],\n",
       "       [1.300e+00, 1.500e+00],\n",
       "       [3.490e+01, 8.720e+01],\n",
       "       [5.060e+01, 5.690e+01],\n",
       "       [1.610e+01, 4.040e+01],\n",
       "       [3.280e+01, 8.220e+01],\n",
       "       [1.160e+01, 2.880e+01],\n",
       "       [7.220e+01, 8.090e+01],\n",
       "       [2.570e+01, 6.430e+01],\n",
       "       [3.140e+01, 3.390e+01],\n",
       "       [2.140e+01, 2.300e+01],\n",
       "       [2.680e+01, 2.630e+01],\n",
       "       [7.490e+01, 8.020e+01],\n",
       "       [8.100e+00, 9.200e+00],\n",
       "       [9.610e+01, 8.960e+01],\n",
       "       [1.007e+02, 8.640e+01],\n",
       "       [3.780e+01, 9.440e+01],\n",
       "       [3.360e+01, 8.410e+01],\n",
       "       [3.590e+01, 8.940e+01],\n",
       "       [1.940e+01, 4.840e+01],\n",
       "       [3.610e+01, 9.050e+01],\n",
       "       [5.950e+01, 8.260e+01],\n",
       "       [7.250e+01, 8.810e+01],\n",
       "       [4.830e+01, 8.650e+01],\n",
       "       [3.480e+01, 4.300e+01],\n",
       "       [3.510e+01, 8.800e+01],\n",
       "       [5.580e+01, 8.530e+01],\n",
       "       [1.085e+02, 8.530e+01],\n",
       "       [4.760e+01, 9.500e+01],\n",
       "       [3.940e+01, 8.100e+01],\n",
       "       [1.068e+02, 7.890e+01],\n",
       "       [3.910e+01, 6.700e+01],\n",
       "       [4.000e+01, 9.180e+01],\n",
       "       [3.450e+01, 8.660e+01],\n",
       "       [1.154e+02, 8.250e+01],\n",
       "       [6.620e+01, 8.700e+01],\n",
       "       [7.140e+01, 8.360e+01],\n",
       "       [3.990e+01, 9.980e+01],\n",
       "       [5.140e+01, 7.990e+01],\n",
       "       [4.690e+01, 8.460e+01],\n",
       "       [5.990e+01, 8.450e+01],\n",
       "       [4.950e+01, 6.730e+01],\n",
       "       [5.000e+01, 8.270e+01],\n",
       "       [5.190e+01, 8.160e+01],\n",
       "       [3.840e+01, 8.790e+01],\n",
       "       [5.070e+01, 9.870e+01],\n",
       "       [3.550e+01, 8.890e+01],\n",
       "       [3.300e+01, 8.280e+01],\n",
       "       [3.350e+01, 8.380e+01],\n",
       "       [6.930e+01, 7.930e+01],\n",
       "       [3.360e+01, 8.420e+01],\n",
       "       [1.053e+02, 7.780e+01],\n",
       "       [6.170e+01, 8.560e+01],\n",
       "       [1.185e+02, 8.470e+01],\n",
       "       [8.760e+01, 8.560e+01],\n",
       "       [6.620e+01, 7.890e+01],\n",
       "       [6.730e+01, 8.840e+01],\n",
       "       [2.890e+01, 7.260e+01],\n",
       "       [3.970e+01, 9.950e+01],\n",
       "       [1.294e+02, 8.320e+01],\n",
       "       [1.051e+02, 7.010e+01],\n",
       "       [3.370e+01, 8.450e+01],\n",
       "       [6.520e+01, 7.780e+01],\n",
       "       [8.140e+01, 9.110e+01],\n",
       "       [3.440e+01, 8.630e+01],\n",
       "       [8.630e+01, 9.450e+01],\n",
       "       [8.090e+01, 8.860e+01],\n",
       "       [3.370e+01, 8.440e+01],\n",
       "       [5.550e+01, 5.420e+01]])"
      ]
     },
     "execution_count": 4,
     "metadata": {},
     "output_type": "execute_result"
    }
   ],
   "source": [
    "print(d['values'].shape)\n",
    "d['values']"
   ]
  },
  {
   "cell_type": "code",
   "execution_count": 11,
   "id": "4f1258d1",
   "metadata": {},
   "outputs": [],
   "source": [
    "def ohe_to_str(ohe):\n",
    "    ix = np.where(ohe==1.)[0]\n",
    "    return f'L{int(ix)}'\n",
    "\n",
    "# ohe = np.array([0., 0., 1., 0.])\n",
    "# ohe_to_str(ohe)"
   ]
  },
  {
   "cell_type": "code",
   "execution_count": 12,
   "id": "07db9dad",
   "metadata": {},
   "outputs": [],
   "source": [
    "# convert to dataframe \n",
    "cols = ['ligand', 'res_time', 'temperature', 'catalyst_loading', 'yield', 'turnover']"
   ]
  },
  {
   "cell_type": "code",
   "execution_count": 13,
   "id": "ff6e9575",
   "metadata": {},
   "outputs": [],
   "source": [
    "dict_ = []\n",
    "\n",
    "for param, value in zip(d['params'], d['values']):\n",
    "    \n",
    "    ligand = ohe_to_str(param[:7])\n",
    "    res_time = param[7]\n",
    "    temperature = param[8]\n",
    "    catalyst_loading = param[9]\n",
    "    \n",
    "    #print(ligand, res_time, temperature, catalyst_loading)\n",
    "    yield_ = value[1]\n",
    "    turnover = value[0]\n",
    "    \n",
    "    dict_.append({'ligand': ligand,  'res_time': res_time, 'temperature': temperature, \n",
    "                 'catalyst_loading': catalyst_loading, 'yield': yield_, 'turnover': turnover})"
   ]
  },
  {
   "cell_type": "code",
   "execution_count": 14,
   "id": "070e4b92",
   "metadata": {},
   "outputs": [
    {
     "name": "stdout",
     "output_type": "stream",
     "text": [
      "(88, 6)\n"
     ]
    },
    {
     "data": {
      "text/html": [
       "<div>\n",
       "<style scoped>\n",
       "    .dataframe tbody tr th:only-of-type {\n",
       "        vertical-align: middle;\n",
       "    }\n",
       "\n",
       "    .dataframe tbody tr th {\n",
       "        vertical-align: top;\n",
       "    }\n",
       "\n",
       "    .dataframe thead th {\n",
       "        text-align: right;\n",
       "    }\n",
       "</style>\n",
       "<table border=\"1\" class=\"dataframe\">\n",
       "  <thead>\n",
       "    <tr style=\"text-align: right;\">\n",
       "      <th></th>\n",
       "      <th>ligand</th>\n",
       "      <th>res_time</th>\n",
       "      <th>temperature</th>\n",
       "      <th>catalyst_loading</th>\n",
       "      <th>yield</th>\n",
       "      <th>turnover</th>\n",
       "    </tr>\n",
       "  </thead>\n",
       "  <tbody>\n",
       "    <tr>\n",
       "      <th>0</th>\n",
       "      <td>L5</td>\n",
       "      <td>600.0</td>\n",
       "      <td>110.0</td>\n",
       "      <td>2.504</td>\n",
       "      <td>29.4</td>\n",
       "      <td>11.7</td>\n",
       "    </tr>\n",
       "    <tr>\n",
       "      <th>1</th>\n",
       "      <td>L4</td>\n",
       "      <td>600.0</td>\n",
       "      <td>110.0</td>\n",
       "      <td>2.499</td>\n",
       "      <td>53.6</td>\n",
       "      <td>21.4</td>\n",
       "    </tr>\n",
       "    <tr>\n",
       "      <th>2</th>\n",
       "      <td>L6</td>\n",
       "      <td>60.0</td>\n",
       "      <td>110.0</td>\n",
       "      <td>2.491</td>\n",
       "      <td>23.7</td>\n",
       "      <td>9.5</td>\n",
       "    </tr>\n",
       "    <tr>\n",
       "      <th>3</th>\n",
       "      <td>L2</td>\n",
       "      <td>60.0</td>\n",
       "      <td>110.0</td>\n",
       "      <td>0.502</td>\n",
       "      <td>64.8</td>\n",
       "      <td>129.2</td>\n",
       "    </tr>\n",
       "    <tr>\n",
       "      <th>4</th>\n",
       "      <td>L1</td>\n",
       "      <td>600.0</td>\n",
       "      <td>110.0</td>\n",
       "      <td>0.511</td>\n",
       "      <td>55.1</td>\n",
       "      <td>107.8</td>\n",
       "    </tr>\n",
       "  </tbody>\n",
       "</table>\n",
       "</div>"
      ],
      "text/plain": [
       "  ligand  res_time  temperature  catalyst_loading  yield  turnover\n",
       "0     L5     600.0        110.0             2.504   29.4      11.7\n",
       "1     L4     600.0        110.0             2.499   53.6      21.4\n",
       "2     L6      60.0        110.0             2.491   23.7       9.5\n",
       "3     L2      60.0        110.0             0.502   64.8     129.2\n",
       "4     L1     600.0        110.0             0.511   55.1     107.8"
      ]
     },
     "execution_count": 14,
     "metadata": {},
     "output_type": "execute_result"
    }
   ],
   "source": [
    "df = pd.DataFrame(dict_)\n",
    "print(df.shape)\n",
    "df.head()"
   ]
  },
  {
   "cell_type": "code",
   "execution_count": 15,
   "id": "73c392e1",
   "metadata": {},
   "outputs": [],
   "source": [
    "df.to_csv('../data.csv', index=False)"
   ]
  },
  {
   "cell_type": "code",
   "execution_count": null,
   "id": "93d5e3c1",
   "metadata": {},
   "outputs": [],
   "source": []
  }
 ],
 "metadata": {
  "kernelspec": {
   "display_name": "olympus",
   "language": "python",
   "name": "olympus"
  },
  "language_info": {
   "codemirror_mode": {
    "name": "ipython",
    "version": 3
   },
   "file_extension": ".py",
   "mimetype": "text/x-python",
   "name": "python",
   "nbconvert_exporter": "python",
   "pygments_lexer": "ipython3",
   "version": "3.7.13"
  }
 },
 "nbformat": 4,
 "nbformat_minor": 5
}
