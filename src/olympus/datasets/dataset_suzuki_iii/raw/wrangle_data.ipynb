{
 "cells": [
  {
   "cell_type": "code",
   "execution_count": 3,
   "id": "a54201f9",
   "metadata": {},
   "outputs": [],
   "source": [
    "import pickle \n",
    "import numpy as np\n",
    "import pandas as pd\n",
    "\n",
    "import matplotlib.pyplot as plt\n",
    "import seaborn as sns"
   ]
  },
  {
   "cell_type": "code",
   "execution_count": 4,
   "id": "c0027fe5",
   "metadata": {},
   "outputs": [],
   "source": [
    "d = pickle.load(open('dataset_iii.pkl', 'rb'))\n"
   ]
  },
  {
   "cell_type": "code",
   "execution_count": 5,
   "id": "18234add",
   "metadata": {},
   "outputs": [
    {
     "name": "stdout",
     "output_type": "stream",
     "text": [
      "(88, 10)\n"
     ]
    },
    {
     "data": {
      "text/plain": [
       "array([0., 0., 0., 1., 0., 0., 0.])"
      ]
     },
     "execution_count": 5,
     "metadata": {},
     "output_type": "execute_result"
    }
   ],
   "source": [
    "print(d['params'].shape)\n",
    "d['params'][0][:7]\n"
   ]
  },
  {
   "cell_type": "code",
   "execution_count": 6,
   "id": "a03b7b02",
   "metadata": {},
   "outputs": [
    {
     "name": "stdout",
     "output_type": "stream",
     "text": [
      "res_time : 60.0 600.0\n",
      "temperature : 30.0 110.0\n",
      "catalyst_loading : 0.499 2.513\n"
     ]
    }
   ],
   "source": [
    "# check parameter bounds for the continuous-valued parameters\n",
    "# res_time\n",
    "res_time_min, res_time_max = np.amin(d['params'][:, 7]), np.amax(d['params'][:, 7])\n",
    "# temperature\n",
    "temperature_min, temperature_max = np.amin(d['params'][:, 8]), np.amax(d['params'][:, 8])\n",
    "# catalyst_loading\n",
    "catalyst_loading_min, catalyst_loading_max = np.amin(d['params'][:, 9]), np.amax(d['params'][:, 9])\n",
    "\n",
    "print(f'res_time : {res_time_min} {res_time_max}')\n",
    "print(f'temperature : {temperature_min} {temperature_max}')\n",
    "print(f'catalyst_loading : {catalyst_loading_min} {catalyst_loading_max}')"
   ]
  },
  {
   "cell_type": "code",
   "execution_count": null,
   "id": "3dc1c673",
   "metadata": {},
   "outputs": [],
   "source": []
  },
  {
   "cell_type": "code",
   "execution_count": 7,
   "id": "8ffe6494",
   "metadata": {},
   "outputs": [
    {
     "name": "stdout",
     "output_type": "stream",
     "text": [
      "(88, 2)\n"
     ]
    },
    {
     "data": {
      "text/plain": [
       "array([[ 0.1,  0.2],\n",
       "       [ 0.1,  0.2],\n",
       "       [ 0.3,  0.2],\n",
       "       [ 0.1,  0.2],\n",
       "       [ 0.3,  0.2],\n",
       "       [ 0.3,  0.2],\n",
       "       [ 0.1,  0.2],\n",
       "       [ 0.3,  0.2],\n",
       "       [ 0.3,  0.2],\n",
       "       [ 0.1,  0.2],\n",
       "       [50.6, 25.4],\n",
       "       [16.9, 42.2],\n",
       "       [46.3, 23.6],\n",
       "       [36.6, 91.3],\n",
       "       [77.4, 86.5],\n",
       "       [ 0.1,  0.2],\n",
       "       [ 4. ,  4.4],\n",
       "       [31.6, 78.8],\n",
       "       [ 2.6,  2.9],\n",
       "       [34.7, 86.7],\n",
       "       [ 0.1,  0.2],\n",
       "       [19.9, 49.9],\n",
       "       [ 3.9,  4.3],\n",
       "       [ 2. ,  5.1],\n",
       "       [ 6.9,  7.6],\n",
       "       [ 8.8, 22.1],\n",
       "       [ 0.7,  0.8],\n",
       "       [ 0.3,  0.7],\n",
       "       [ 1.6,  4.1],\n",
       "       [32.6, 76.6],\n",
       "       [33. , 80.3],\n",
       "       [37.7, 87.4],\n",
       "       [20.9, 49.9],\n",
       "       [ 0.1,  0.2],\n",
       "       [ 0.2,  0.2],\n",
       "       [ 9.8, 10.9],\n",
       "       [51.4, 62.6],\n",
       "       [77.6, 85.8],\n",
       "       [48.6, 51.7],\n",
       "       [24.8, 35.1],\n",
       "       [53.1, 88.8],\n",
       "       [59.8, 78.4],\n",
       "       [61.8, 87.5],\n",
       "       [30.3, 75.4],\n",
       "       [32. , 79.8],\n",
       "       [34.4, 86.5],\n",
       "       [56.6, 85. ],\n",
       "       [43.6, 84.2],\n",
       "       [60.6, 79.4],\n",
       "       [49.5, 81.4],\n",
       "       [77.4, 81.1],\n",
       "       [49.5, 71.5],\n",
       "       [59.9, 82. ],\n",
       "       [51.2, 68.2],\n",
       "       [83. , 87. ],\n",
       "       [65.3, 83.3],\n",
       "       [50.5, 90.2],\n",
       "       [35.8, 86.4],\n",
       "       [48.1, 83.3],\n",
       "       [75.9, 81.7],\n",
       "       [41.5, 77.7],\n",
       "       [65.1, 84.9],\n",
       "       [44.5, 84.6],\n",
       "       [43. , 87.7],\n",
       "       [34.4, 85.9],\n",
       "       [46.9, 90.4],\n",
       "       [38.3, 81.4],\n",
       "       [80.8, 89.4],\n",
       "       [40.5, 73.5],\n",
       "       [85.6, 79.9],\n",
       "       [52.1, 82.9],\n",
       "       [40. , 68. ],\n",
       "       [53.8, 90.1],\n",
       "       [74.3, 90.6],\n",
       "       [49.3, 70.1],\n",
       "       [66.4, 94.1],\n",
       "       [45.4, 87.6],\n",
       "       [80.1, 87.3],\n",
       "       [44.3, 77.9],\n",
       "       [45.3, 81. ],\n",
       "       [52.3, 84.5],\n",
       "       [64.4, 84. ],\n",
       "       [65.4, 79.6],\n",
       "       [47.2, 75. ],\n",
       "       [43.6, 78. ],\n",
       "       [ 0.3,  0.2],\n",
       "       [ 0.3,  0.2],\n",
       "       [49.6, 80.1]])"
      ]
     },
     "execution_count": 7,
     "metadata": {},
     "output_type": "execute_result"
    }
   ],
   "source": [
    "print(d['values'].shape)\n",
    "d['values']"
   ]
  },
  {
   "cell_type": "code",
   "execution_count": 14,
   "id": "4f1258d1",
   "metadata": {},
   "outputs": [],
   "source": [
    "def ohe_to_str(ohe):\n",
    "    ix = np.where(ohe==1.)[0]\n",
    "    return f'L{int(ix)}'\n",
    "\n",
    "# ohe = np.array([0., 0., 1., 0.])\n",
    "# ohe_to_str(ohe)"
   ]
  },
  {
   "cell_type": "code",
   "execution_count": 15,
   "id": "07db9dad",
   "metadata": {},
   "outputs": [],
   "source": [
    "# convert to dataframe \n",
    "cols = ['ligand', 'res_time', 'temperature', 'catalyst_loading', 'yield', 'turnover']"
   ]
  },
  {
   "cell_type": "code",
   "execution_count": 24,
   "id": "ff6e9575",
   "metadata": {},
   "outputs": [],
   "source": [
    "dict_ = []\n",
    "\n",
    "for param, value in zip(d['params'], d['values']):\n",
    "    \n",
    "    ligand = ohe_to_str(param[:7])\n",
    "    res_time = param[7]\n",
    "    temperature = param[8]\n",
    "    catalyst_loading = param[9]\n",
    "    \n",
    "    #print(ligand, res_time, temperature, catalyst_loading)\n",
    "    yield_ = value[1]\n",
    "    turnover = value[0]\n",
    "    \n",
    "    dict_.append({'ligand': ligand,  'res_time': res_time, 'temperature': temperature, \n",
    "                 'catalyst_loading': catalyst_loading, 'yield': yield_, 'turnover': turnover})"
   ]
  },
  {
   "cell_type": "code",
   "execution_count": 25,
   "id": "070e4b92",
   "metadata": {},
   "outputs": [
    {
     "name": "stdout",
     "output_type": "stream",
     "text": [
      "(88, 6)\n"
     ]
    },
    {
     "data": {
      "text/html": [
       "<div>\n",
       "<style scoped>\n",
       "    .dataframe tbody tr th:only-of-type {\n",
       "        vertical-align: middle;\n",
       "    }\n",
       "\n",
       "    .dataframe tbody tr th {\n",
       "        vertical-align: top;\n",
       "    }\n",
       "\n",
       "    .dataframe thead th {\n",
       "        text-align: right;\n",
       "    }\n",
       "</style>\n",
       "<table border=\"1\" class=\"dataframe\">\n",
       "  <thead>\n",
       "    <tr style=\"text-align: right;\">\n",
       "      <th></th>\n",
       "      <th>ligand</th>\n",
       "      <th>res_time</th>\n",
       "      <th>temperature</th>\n",
       "      <th>catalyst_loading</th>\n",
       "      <th>yield</th>\n",
       "      <th>turnover</th>\n",
       "    </tr>\n",
       "  </thead>\n",
       "  <tbody>\n",
       "    <tr>\n",
       "      <th>0</th>\n",
       "      <td>L3</td>\n",
       "      <td>60.0</td>\n",
       "      <td>30.0</td>\n",
       "      <td>2.513</td>\n",
       "      <td>0.2</td>\n",
       "      <td>0.1</td>\n",
       "    </tr>\n",
       "    <tr>\n",
       "      <th>1</th>\n",
       "      <td>L1</td>\n",
       "      <td>600.0</td>\n",
       "      <td>30.0</td>\n",
       "      <td>2.494</td>\n",
       "      <td>0.2</td>\n",
       "      <td>0.1</td>\n",
       "    </tr>\n",
       "    <tr>\n",
       "      <th>2</th>\n",
       "      <td>L0</td>\n",
       "      <td>60.0</td>\n",
       "      <td>30.0</td>\n",
       "      <td>0.510</td>\n",
       "      <td>0.2</td>\n",
       "      <td>0.3</td>\n",
       "    </tr>\n",
       "    <tr>\n",
       "      <th>3</th>\n",
       "      <td>L4</td>\n",
       "      <td>600.0</td>\n",
       "      <td>30.0</td>\n",
       "      <td>2.511</td>\n",
       "      <td>0.2</td>\n",
       "      <td>0.1</td>\n",
       "    </tr>\n",
       "    <tr>\n",
       "      <th>4</th>\n",
       "      <td>L5</td>\n",
       "      <td>60.0</td>\n",
       "      <td>30.0</td>\n",
       "      <td>0.499</td>\n",
       "      <td>0.2</td>\n",
       "      <td>0.3</td>\n",
       "    </tr>\n",
       "  </tbody>\n",
       "</table>\n",
       "</div>"
      ],
      "text/plain": [
       "  ligand  res_time  temperature  catalyst_loading  yield  turnover\n",
       "0     L3      60.0         30.0             2.513    0.2       0.1\n",
       "1     L1     600.0         30.0             2.494    0.2       0.1\n",
       "2     L0      60.0         30.0             0.510    0.2       0.3\n",
       "3     L4     600.0         30.0             2.511    0.2       0.1\n",
       "4     L5      60.0         30.0             0.499    0.2       0.3"
      ]
     },
     "execution_count": 25,
     "metadata": {},
     "output_type": "execute_result"
    }
   ],
   "source": [
    "df = pd.DataFrame(dict_)\n",
    "print(df.shape)\n",
    "df.head()"
   ]
  },
  {
   "cell_type": "code",
   "execution_count": 26,
   "id": "73c392e1",
   "metadata": {},
   "outputs": [],
   "source": [
    "df.to_csv('../data.csv', index=False)"
   ]
  },
  {
   "cell_type": "code",
   "execution_count": null,
   "id": "93d5e3c1",
   "metadata": {},
   "outputs": [],
   "source": []
  }
 ],
 "metadata": {
  "kernelspec": {
   "display_name": "olympus",
   "language": "python",
   "name": "olympus"
  },
  "language_info": {
   "codemirror_mode": {
    "name": "ipython",
    "version": 3
   },
   "file_extension": ".py",
   "mimetype": "text/x-python",
   "name": "python",
   "nbconvert_exporter": "python",
   "pygments_lexer": "ipython3",
   "version": "3.7.13"
  }
 },
 "nbformat": 4,
 "nbformat_minor": 5
}
