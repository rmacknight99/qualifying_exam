{
 "cells": [
  {
   "cell_type": "code",
   "execution_count": 86,
   "id": "e73cb476",
   "metadata": {},
   "outputs": [],
   "source": [
    "import numpy as np\n",
    "import pandas as pd\n",
    "\n",
    "from hebo.design_space.design_space import DesignSpace\n",
    "from hebo.optimizers.hebo import HEBO"
   ]
  },
  {
   "cell_type": "code",
   "execution_count": 87,
   "id": "159a79fe",
   "metadata": {},
   "outputs": [],
   "source": [
    "def obj(params : pd.DataFrame) -> np.ndarray:\n",
    "    return ((params.max_depth - 0.37)**2).sum()\n",
    "\n",
    "\n",
    "def mock_obj(params):\n",
    "    return np.array(np.random.uniform())"
   ]
  },
  {
   "cell_type": "code",
   "execution_count": 88,
   "id": "7084ef94",
   "metadata": {},
   "outputs": [],
   "source": [
    "# space = DesignSpace().parse(\n",
    "#     [{'name': 'x', 'type': 'num', 'lb': -3, 'ub': 3}]\n",
    "# )\n",
    "\n",
    "# #\n",
    "space_cfg = [\n",
    "    {'name' : 'max_depth', 'type' : 'int', 'lb' : 1, 'ub' : 20},\n",
    "    {'name' : 'min_samples_leaf', 'type' : 'num', 'lb' : 1e-4, 'ub' : 0.5},\n",
    "    {'name' : 'max_features', 'type' : 'cat', 'categories' : ['auto', 'sqrt', 'log2']},\n",
    "    {'name' : 'bootstrap', 'type' : 'bool'},\n",
    "    {'name' : 'min_impurity_decrease', 'type' : 'pow', 'lb' : 1e-4, 'ub' : 1.0},\n",
    "    ]\n",
    "opt = HEBO(DesignSpace().parse(space_cfg))\n"
   ]
  },
  {
   "cell_type": "code",
   "execution_count": 89,
   "id": "dd06decf",
   "metadata": {},
   "outputs": [],
   "source": [
    "recs = []\n",
    "obss = []\n",
    "for i in range(5):\n",
    "    #opt = HEBO(DesignSpace().parse(space_cfg))\n",
    "    rec = opt.suggest(n_suggestions=1)\n",
    "    obs = obj(rec)\n",
    "    recs.append(rec)\n",
    "    obss.append(obs)\n",
    "    #print(type(obs), obs.shape)\n",
    "    #print(type(rec))\n",
    "    opt.observe(rec, obj(rec).reshape(-1, 1))\n",
    "    #print(f'iteration {i}\\t rec : {rec[\"x\"].to_list()} \\t obj : {mock_obj(rec)}')"
   ]
  },
  {
   "cell_type": "code",
   "execution_count": 90,
   "id": "ad166093",
   "metadata": {},
   "outputs": [
    {
     "data": {
      "text/html": [
       "<div>\n",
       "<style scoped>\n",
       "    .dataframe tbody tr th:only-of-type {\n",
       "        vertical-align: middle;\n",
       "    }\n",
       "\n",
       "    .dataframe tbody tr th {\n",
       "        vertical-align: top;\n",
       "    }\n",
       "\n",
       "    .dataframe thead th {\n",
       "        text-align: right;\n",
       "    }\n",
       "</style>\n",
       "<table border=\"1\" class=\"dataframe\">\n",
       "  <thead>\n",
       "    <tr style=\"text-align: right;\">\n",
       "      <th></th>\n",
       "      <th>max_depth</th>\n",
       "      <th>min_samples_leaf</th>\n",
       "      <th>bootstrap</th>\n",
       "      <th>min_impurity_decrease</th>\n",
       "      <th>max_features</th>\n",
       "    </tr>\n",
       "  </thead>\n",
       "  <tbody>\n",
       "    <tr>\n",
       "      <th>0</th>\n",
       "      <td>1</td>\n",
       "      <td>0.0001</td>\n",
       "      <td>False</td>\n",
       "      <td>0.0001</td>\n",
       "      <td>auto</td>\n",
       "    </tr>\n",
       "    <tr>\n",
       "      <th>0</th>\n",
       "      <td>1</td>\n",
       "      <td>0.0001</td>\n",
       "      <td>False</td>\n",
       "      <td>0.0001</td>\n",
       "      <td>auto</td>\n",
       "    </tr>\n",
       "    <tr>\n",
       "      <th>0</th>\n",
       "      <td>1</td>\n",
       "      <td>0.0001</td>\n",
       "      <td>False</td>\n",
       "      <td>0.0001</td>\n",
       "      <td>auto</td>\n",
       "    </tr>\n",
       "    <tr>\n",
       "      <th>0</th>\n",
       "      <td>1</td>\n",
       "      <td>0.0001</td>\n",
       "      <td>False</td>\n",
       "      <td>0.0001</td>\n",
       "      <td>auto</td>\n",
       "    </tr>\n",
       "    <tr>\n",
       "      <th>0</th>\n",
       "      <td>1</td>\n",
       "      <td>0.0001</td>\n",
       "      <td>False</td>\n",
       "      <td>0.0001</td>\n",
       "      <td>auto</td>\n",
       "    </tr>\n",
       "  </tbody>\n",
       "</table>\n",
       "</div>"
      ],
      "text/plain": [
       "   max_depth  min_samples_leaf  bootstrap  min_impurity_decrease max_features\n",
       "0          1            0.0001      False                 0.0001         auto\n",
       "0          1            0.0001      False                 0.0001         auto\n",
       "0          1            0.0001      False                 0.0001         auto\n",
       "0          1            0.0001      False                 0.0001         auto\n",
       "0          1            0.0001      False                 0.0001         auto"
      ]
     },
     "execution_count": 90,
     "metadata": {},
     "output_type": "execute_result"
    }
   ],
   "source": [
    "all_recs = pd.concat(recs)\n",
    "all_recs "
   ]
  },
  {
   "cell_type": "code",
   "execution_count": 106,
   "id": "36d9b80f",
   "metadata": {},
   "outputs": [
    {
     "data": {
      "text/plain": [
       "[{'max_depth': 1,\n",
       "  'min_samples_leaf': 0.0001,\n",
       "  'bootstrap': False,\n",
       "  'min_impurity_decrease': 0.00010000000000000021,\n",
       "  'max_features': 'auto'},\n",
       " {'max_depth': 1,\n",
       "  'min_samples_leaf': 0.0001,\n",
       "  'bootstrap': False,\n",
       "  'min_impurity_decrease': 0.00010000000000000021,\n",
       "  'max_features': 'auto'},\n",
       " {'max_depth': 1,\n",
       "  'min_samples_leaf': 0.0001,\n",
       "  'bootstrap': False,\n",
       "  'min_impurity_decrease': 0.00010000000000000021,\n",
       "  'max_features': 'auto'},\n",
       " {'max_depth': 1,\n",
       "  'min_samples_leaf': 0.0001,\n",
       "  'bootstrap': False,\n",
       "  'min_impurity_decrease': 0.00010000000000000021,\n",
       "  'max_features': 'auto'},\n",
       " {'max_depth': 1,\n",
       "  'min_samples_leaf': 0.0001,\n",
       "  'bootstrap': False,\n",
       "  'min_impurity_decrease': 0.00010000000000000021,\n",
       "  'max_features': 'auto'}]"
      ]
     },
     "execution_count": 106,
     "metadata": {},
     "output_type": "execute_result"
    }
   ],
   "source": [
    "all_recs.to_dict('r')"
   ]
  },
  {
   "cell_type": "code",
   "execution_count": null,
   "id": "bf5a487d",
   "metadata": {},
   "outputs": [],
   "source": []
  },
  {
   "cell_type": "code",
   "execution_count": 93,
   "id": "6d557afe",
   "metadata": {},
   "outputs": [
    {
     "data": {
      "text/plain": [
       "[0.39690000000000003,\n",
       " 0.39690000000000003,\n",
       " 0.39690000000000003,\n",
       " 0.39690000000000003,\n",
       " 0.39690000000000003]"
      ]
     },
     "execution_count": 93,
     "metadata": {},
     "output_type": "execute_result"
    }
   ],
   "source": [
    "obss\n"
   ]
  },
  {
   "cell_type": "code",
   "execution_count": 95,
   "id": "443b5ce5",
   "metadata": {},
   "outputs": [
    {
     "data": {
      "text/plain": [
       "(array([[0.3969],\n",
       "        [0.3969],\n",
       "        [0.3969],\n",
       "        [0.3969],\n",
       "        [0.3969]]),\n",
       " (5, 1))"
      ]
     },
     "execution_count": 95,
     "metadata": {},
     "output_type": "execute_result"
    }
   ],
   "source": [
    "all_obs = np.array(obss).reshape(-1, 1)\n",
    "all_obs, all_obs.shape"
   ]
  },
  {
   "cell_type": "code",
   "execution_count": 98,
   "id": "1c673fa7",
   "metadata": {},
   "outputs": [
    {
     "data": {
      "text/html": [
       "<div>\n",
       "<style scoped>\n",
       "    .dataframe tbody tr th:only-of-type {\n",
       "        vertical-align: middle;\n",
       "    }\n",
       "\n",
       "    .dataframe tbody tr th {\n",
       "        vertical-align: top;\n",
       "    }\n",
       "\n",
       "    .dataframe thead th {\n",
       "        text-align: right;\n",
       "    }\n",
       "</style>\n",
       "<table border=\"1\" class=\"dataframe\">\n",
       "  <thead>\n",
       "    <tr style=\"text-align: right;\">\n",
       "      <th></th>\n",
       "      <th>max_depth</th>\n",
       "      <th>min_samples_leaf</th>\n",
       "      <th>bootstrap</th>\n",
       "      <th>min_impurity_decrease</th>\n",
       "      <th>max_features</th>\n",
       "    </tr>\n",
       "  </thead>\n",
       "  <tbody>\n",
       "    <tr>\n",
       "      <th>0</th>\n",
       "      <td>1</td>\n",
       "      <td>0.0001</td>\n",
       "      <td>False</td>\n",
       "      <td>0.0001</td>\n",
       "      <td>auto</td>\n",
       "    </tr>\n",
       "    <tr>\n",
       "      <th>0</th>\n",
       "      <td>1</td>\n",
       "      <td>0.0001</td>\n",
       "      <td>False</td>\n",
       "      <td>0.0001</td>\n",
       "      <td>auto</td>\n",
       "    </tr>\n",
       "    <tr>\n",
       "      <th>0</th>\n",
       "      <td>1</td>\n",
       "      <td>0.0001</td>\n",
       "      <td>False</td>\n",
       "      <td>0.0001</td>\n",
       "      <td>auto</td>\n",
       "    </tr>\n",
       "    <tr>\n",
       "      <th>0</th>\n",
       "      <td>1</td>\n",
       "      <td>0.0001</td>\n",
       "      <td>False</td>\n",
       "      <td>0.0001</td>\n",
       "      <td>auto</td>\n",
       "    </tr>\n",
       "    <tr>\n",
       "      <th>0</th>\n",
       "      <td>1</td>\n",
       "      <td>0.0001</td>\n",
       "      <td>False</td>\n",
       "      <td>0.0001</td>\n",
       "      <td>auto</td>\n",
       "    </tr>\n",
       "  </tbody>\n",
       "</table>\n",
       "</div>"
      ],
      "text/plain": [
       "   max_depth  min_samples_leaf  bootstrap  min_impurity_decrease max_features\n",
       "0          1            0.0001      False                 0.0001         auto\n",
       "0          1            0.0001      False                 0.0001         auto\n",
       "0          1            0.0001      False                 0.0001         auto\n",
       "0          1            0.0001      False                 0.0001         auto\n",
       "0          1            0.0001      False                 0.0001         auto"
      ]
     },
     "execution_count": 98,
     "metadata": {},
     "output_type": "execute_result"
    }
   ],
   "source": [
    "[{'max_depth': }]"
   ]
  },
  {
   "cell_type": "code",
   "execution_count": 99,
   "id": "b5fe7db8",
   "metadata": {},
   "outputs": [],
   "source": [
    "space_cfg = [\n",
    "    {'name' : 'max_depth', 'type' : 'int', 'lb' : 1, 'ub' : 20},\n",
    "    {'name' : 'min_samples_leaf', 'type' : 'num', 'lb' : 1e-4, 'ub' : 0.5},\n",
    "    {'name' : 'max_features', 'type' : 'cat', 'categories' : ['auto', 'sqrt', 'log2']},\n",
    "    {'name' : 'bootstrap', 'type' : 'bool'},\n",
    "    {'name' : 'min_impurity_decrease', 'type' : 'pow', 'lb' : 1e-4, 'ub' : 1.0},\n",
    "    ]\n",
    "opt = HEBO(DesignSpace().parse(space_cfg))\n"
   ]
  },
  {
   "cell_type": "code",
   "execution_count": 102,
   "id": "bf57356e",
   "metadata": {},
   "outputs": [],
   "source": [
    "opt.observe(all_recs, all_obs)"
   ]
  },
  {
   "cell_type": "code",
   "execution_count": 104,
   "id": "77789a44",
   "metadata": {},
   "outputs": [
    {
     "data": {
      "text/html": [
       "<div>\n",
       "<style scoped>\n",
       "    .dataframe tbody tr th:only-of-type {\n",
       "        vertical-align: middle;\n",
       "    }\n",
       "\n",
       "    .dataframe tbody tr th {\n",
       "        vertical-align: top;\n",
       "    }\n",
       "\n",
       "    .dataframe thead th {\n",
       "        text-align: right;\n",
       "    }\n",
       "</style>\n",
       "<table border=\"1\" class=\"dataframe\">\n",
       "  <thead>\n",
       "    <tr style=\"text-align: right;\">\n",
       "      <th></th>\n",
       "      <th>max_depth</th>\n",
       "      <th>min_samples_leaf</th>\n",
       "      <th>bootstrap</th>\n",
       "      <th>min_impurity_decrease</th>\n",
       "      <th>max_features</th>\n",
       "    </tr>\n",
       "  </thead>\n",
       "  <tbody>\n",
       "    <tr>\n",
       "      <th>0</th>\n",
       "      <td>1</td>\n",
       "      <td>0.0001</td>\n",
       "      <td>False</td>\n",
       "      <td>0.0001</td>\n",
       "      <td>auto</td>\n",
       "    </tr>\n",
       "  </tbody>\n",
       "</table>\n",
       "</div>"
      ],
      "text/plain": [
       "   max_depth  min_samples_leaf  bootstrap  min_impurity_decrease max_features\n",
       "0          1            0.0001      False                 0.0001         auto"
      ]
     },
     "execution_count": 104,
     "metadata": {},
     "output_type": "execute_result"
    }
   ],
   "source": [
    "opt.suggest(n_suggestions=1)"
   ]
  },
  {
   "cell_type": "code",
   "execution_count": null,
   "id": "89a2098c",
   "metadata": {},
   "outputs": [],
   "source": []
  }
 ],
 "metadata": {
  "kernelspec": {
   "display_name": "olympus",
   "language": "python",
   "name": "olympus"
  },
  "language_info": {
   "codemirror_mode": {
    "name": "ipython",
    "version": 3
   },
   "file_extension": ".py",
   "mimetype": "text/x-python",
   "name": "python",
   "nbconvert_exporter": "python",
   "pygments_lexer": "ipython3",
   "version": "3.7.12"
  }
 },
 "nbformat": 4,
 "nbformat_minor": 5
}
